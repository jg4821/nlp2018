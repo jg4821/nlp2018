{
 "cells": [
  {
   "cell_type": "code",
   "execution_count": 1,
   "metadata": {
    "collapsed": true
   },
   "outputs": [],
   "source": [
    "import numpy as np\n",
    "import pandas as pd\n",
    "import glob\n",
    "import errno\n",
    "import os\n",
    "import random\n",
    "import spacy\n",
    "import string\n",
    "import pickle as pkl\n",
    "from collections import Counter\n",
    "\n",
    "import torch\n",
    "from torch.utils.data import Dataset\n",
    "import torch\n",
    "import torch.nn as nn\n",
    "import torch.nn.functional as F\n",
    "\n",
    "import matplotlib.pyplot as plt\n",
    "% matplotlib inline"
   ]
  },
  {
   "cell_type": "code",
   "execution_count": 2,
   "metadata": {
    "collapsed": true
   },
   "outputs": [],
   "source": [
    "def build_vocab(all_tokens):\n",
    "    # Returns:\n",
    "    # id2token: list of tokens, where id2token[i] returns token that corresponds to token i\n",
    "    # token2id: dictionary where keys represent tokens and corresponding values represent indices\n",
    "    token_counter = Counter(all_tokens)\n",
    "    vocab, count = zip(*token_counter.most_common(max_vocab_size))\n",
    "    id2token = list(vocab)\n",
    "    token2id = dict(zip(vocab, range(2,2+len(vocab)))) \n",
    "    id2token = ['<pad>', '<unk>'] + id2token\n",
    "    token2id['<pad>'] = PAD_IDX \n",
    "    token2id['<unk>'] = UNK_IDX\n",
    "    return token2id, id2token\n",
    "\n",
    "# convert token to id in the dataset\n",
    "def token2index_dataset(tokens_data):\n",
    "    indices_data = []\n",
    "    for tokens in tokens_data:\n",
    "        index_list = [token2id[token] if token in token2id else UNK_IDX for token in tokens]\n",
    "        indices_data.append(index_list)\n",
    "    return indices_data\n",
    "\n",
    "class NewsGroupDataset(Dataset):\n",
    "    \"\"\"\n",
    "    Class that represents a train/validation/test dataset that's readable for PyTorch\n",
    "    Note that this class inherits torch.utils.data.Dataset\n",
    "    \"\"\"\n",
    "    \n",
    "    def __init__(self, data_list, target_list):\n",
    "        \"\"\"\n",
    "        @param data_list: list of newsgroup tokens \n",
    "        @param target_list: list of newsgroup targets \n",
    "\n",
    "        \"\"\"\n",
    "        self.data_list = data_list\n",
    "        self.target_list = target_list\n",
    "        assert (len(self.data_list) == len(self.target_list))\n",
    "\n",
    "    def __len__(self):\n",
    "        return len(self.data_list)\n",
    "        \n",
    "    def __getitem__(self, key):\n",
    "        \"\"\"\n",
    "        Triggered when you call dataset[i]\n",
    "        \"\"\"\n",
    "        \n",
    "        token_idx = self.data_list[key][:MAX_SENTENCE_LENGTH]\n",
    "        label = self.target_list[key]\n",
    "        return [token_idx, len(token_idx), label]\n",
    "\n",
    "def newsgroup_collate_func(batch):\n",
    "    \"\"\"\n",
    "    Customized function for DataLoader that dynamically pads the batch so that all \n",
    "    data have the same length\n",
    "    \"\"\"\n",
    "    data_list = []\n",
    "    label_list = []\n",
    "    length_list = []\n",
    "    #print(\"collate batch: \", batch[0][0])\n",
    "    #batch[0][0] = batch[0][0][:MAX_SENTENCE_LENGTH]\n",
    "    for datum in batch:\n",
    "        label_list.append(datum[2])\n",
    "        length_list.append(datum[1])\n",
    "    # padding\n",
    "    for datum in batch:\n",
    "        padded_vec = np.pad(np.array(datum[0]), \n",
    "                                pad_width=((0,MAX_SENTENCE_LENGTH-datum[1])), \n",
    "                                mode=\"constant\", constant_values=0)\n",
    "        data_list.append(padded_vec)\n",
    "    return [torch.from_numpy(np.array(data_list)), torch.LongTensor(length_list), torch.LongTensor(label_list)]\n",
    "\n",
    "class BagOfWords(nn.Module):\n",
    "    \"\"\"\n",
    "    BagOfWords classification model\n",
    "    \"\"\"\n",
    "    def __init__(self, vocab_size, emb_dim):\n",
    "        \"\"\"\n",
    "        @param vocab_size: size of the vocabulary. \n",
    "        @param emb_dim: size of the word embedding\n",
    "        \"\"\"\n",
    "        super(BagOfWords, self).__init__()\n",
    "        # pay attention to padding_idx \n",
    "        self.embed = nn.Embedding(vocab_size, emb_dim, padding_idx=0)\n",
    "        self.linear = nn.Linear(emb_dim,2)\n",
    "    \n",
    "    def forward(self, data, length):\n",
    "        \"\"\"\n",
    "        \n",
    "        @param data: matrix of size (batch_size, max_sentence_length). Each row in data represents a \n",
    "            review that is represented using n-gram index. Note that they are padded to have same length.\n",
    "        @param length: an int tensor of size (batch_size), which represents the non-trivial (excludes padding)\n",
    "            length of each sentences in the data.\n",
    "        \"\"\"\n",
    "        out = self.embed(data)\n",
    "        out = torch.sum(out, dim=1)\n",
    "        out /= length.view(length.size()[0],1).expand_as(out).float()\n",
    "     \n",
    "        # return logits\n",
    "        out = self.linear(out.float())\n",
    "        return out\n",
    "\n",
    "# Function for testing the model\n",
    "def test_model(loader, model):\n",
    "    \"\"\"\n",
    "    Help function that tests the model's performance on a dataset\n",
    "    @param: loader - data loader for the dataset to test against\n",
    "    \"\"\"\n",
    "    correct = 0\n",
    "    total = 0\n",
    "    model.eval()\n",
    "    for data, lengths, labels in loader:\n",
    "        data_batch, length_batch, label_batch = data, lengths, labels\n",
    "        outputs = F.softmax(model(data_batch, length_batch), dim=1)\n",
    "        predicted = outputs.max(1, keepdim=True)[1]\n",
    "        \n",
    "        total += labels.size(0)\n",
    "        correct += predicted.eq(labels.view_as(predicted)).sum().item()\n",
    "    return (100 * correct / total)"
   ]
  },
  {
   "cell_type": "code",
   "execution_count": 3,
   "metadata": {
    "collapsed": true
   },
   "outputs": [],
   "source": [
    "test_targets = ([1]*12500) + ([0]*12500)\n",
    "train_split = 10000\n",
    "train_targets = ([1]*train_split) + ([0]*train_split)\n",
    "val_targets = ([1]*2500) + ([0]*2500)"
   ]
  },
  {
   "cell_type": "code",
   "execution_count": 4,
   "metadata": {
    "collapsed": true
   },
   "outputs": [],
   "source": [
    "# save index 0 for pad and 1 for unk\n",
    "PAD_IDX = 0\n",
    "UNK_IDX = 1\n",
    "\n",
    "max_vocab_size = 20000\n",
    "MAX_SENTENCE_LENGTH = 400\n",
    "\n",
    "learning_rate = 0.001\n",
    "emb_dim = 400"
   ]
  },
  {
   "cell_type": "markdown",
   "metadata": {},
   "source": [
    "### Tokenize - none"
   ]
  },
  {
   "cell_type": "code",
   "execution_count": 5,
   "metadata": {
    "collapsed": true
   },
   "outputs": [],
   "source": [
    "train_none = pkl.load(open(\"train_none.p\", \"rb\"))\n",
    "all_train_none = pkl.load(open(\"all_train_none.p\", \"rb\"))\n",
    "\n",
    "val_none = pkl.load(open(\"val_none.p\", \"rb\"))\n",
    "test_none = pkl.load(open(\"test_none.p\", \"rb\"))"
   ]
  },
  {
   "cell_type": "code",
   "execution_count": 9,
   "metadata": {
    "collapsed": true
   },
   "outputs": [],
   "source": [
    "token2id, id2token = build_vocab(all_train_none)\n",
    "\n",
    "train_data_indices = token2index_dataset(train_none)\n",
    "val_data_indices = token2index_dataset(val_none)\n",
    "test_data_indices = token2index_dataset(test_none)"
   ]
  },
  {
   "cell_type": "code",
   "execution_count": 10,
   "metadata": {
    "collapsed": true
   },
   "outputs": [],
   "source": [
    "BATCH_SIZE = 32\n",
    "train_dataset = NewsGroupDataset(train_data_indices, train_targets)\n",
    "train_loader = torch.utils.data.DataLoader(dataset=train_dataset, \n",
    "                                           batch_size=BATCH_SIZE,\n",
    "                                           collate_fn=newsgroup_collate_func,\n",
    "                                           shuffle=True)\n",
    "\n",
    "val_dataset = NewsGroupDataset(val_data_indices, val_targets)\n",
    "val_loader = torch.utils.data.DataLoader(dataset=val_dataset, \n",
    "                                           batch_size=BATCH_SIZE,\n",
    "                                           collate_fn=newsgroup_collate_func,\n",
    "                                           shuffle=True)\n",
    "\n",
    "test_dataset = NewsGroupDataset(test_data_indices, test_targets)\n",
    "test_loader = torch.utils.data.DataLoader(dataset=test_dataset, \n",
    "                                           batch_size=BATCH_SIZE,\n",
    "                                           collate_fn=newsgroup_collate_func,\n",
    "                                           shuffle=False)\n",
    "\n",
    "model = BagOfWords(len(id2token), emb_dim)\n",
    "\n",
    "num_epochs = 5 # number epoch to train\n",
    "\n",
    "# Criterion and Optimizer\n",
    "criterion = torch.nn.CrossEntropyLoss()  \n",
    "optimizer = torch.optim.Adam(model.parameters(), lr=learning_rate)\n"
   ]
  },
  {
   "cell_type": "code",
   "execution_count": 11,
   "metadata": {},
   "outputs": [
    {
     "name": "stdout",
     "output_type": "stream",
     "text": [
      "Tokenize: none\n",
      "Epoch: [1/5], Step: [625/625], Train loss: 0.3654152750968933, Train acc: 87.175, Validation Acc: 83.54\n",
      "Epoch: [2/5], Step: [625/625], Train loss: 0.326225221157074, Train acc: 91.745, Validation Acc: 87.26\n",
      "Epoch: [3/5], Step: [625/625], Train loss: 0.2633203864097595, Train acc: 94.285, Validation Acc: 88.32\n",
      "Epoch: [4/5], Step: [625/625], Train loss: 0.17276690900325775, Train acc: 95.96, Validation Acc: 88.56\n",
      "Epoch: [5/5], Step: [625/625], Train loss: 0.1513471007347107, Train acc: 97.39, Validation Acc: 88.7\n"
     ]
    }
   ],
   "source": [
    "val_acc_none = []\n",
    "train_acc_none = []\n",
    "\n",
    "print('Tokenize: none')\n",
    "for epoch in range(num_epochs):\n",
    "    for i, (data, lengths, labels) in enumerate(train_loader):\n",
    "        model.train()\n",
    "        data_batch, length_batch, label_batch = data, lengths, labels\n",
    "        optimizer.zero_grad()\n",
    "        outputs = model(data_batch, length_batch)\n",
    "        loss = criterion(outputs, label_batch)\n",
    "        loss.backward()\n",
    "        optimizer.step()\n",
    "        # validate every 625 iterations\n",
    "        if i > 0 and i % 624 == 0:\n",
    "            # validate\n",
    "            val_acc = test_model(val_loader, model)\n",
    "            train_acc = test_model(train_loader, model)\n",
    "            print('Epoch: [{}/{}], Step: [{}/{}], Train loss: {}, Train acc: {}, Validation Acc: {}'.format( \n",
    "                       epoch+1, num_epochs, i+1, len(train_loader), loss, train_acc, val_acc))\n",
    "            train_acc_none.append(train_acc)\n",
    "            val_acc_none.append(val_acc)"
   ]
  },
  {
   "cell_type": "markdown",
   "metadata": {},
   "source": [
    "### Tokenize - lower"
   ]
  },
  {
   "cell_type": "code",
   "execution_count": 6,
   "metadata": {
    "collapsed": true
   },
   "outputs": [],
   "source": [
    "train_lower = pkl.load(open(\"train_lower.p\", \"rb\"))\n",
    "all_train_lower = pkl.load(open(\"all_train_lower.p\", \"rb\"))\n",
    "\n",
    "val_lower = pkl.load(open(\"val_lower.p\", \"rb\"))\n",
    "test_lower = pkl.load(open(\"test_lower.p\", \"rb\"))"
   ]
  },
  {
   "cell_type": "code",
   "execution_count": 12,
   "metadata": {
    "collapsed": true
   },
   "outputs": [],
   "source": [
    "token2id, id2token = build_vocab(all_train_lower)\n",
    "\n",
    "train_data_indices = token2index_dataset(train_lower)\n",
    "val_data_indices = token2index_dataset(val_lower)\n",
    "test_data_indices = token2index_dataset(test_lower)"
   ]
  },
  {
   "cell_type": "code",
   "execution_count": 13,
   "metadata": {
    "collapsed": true
   },
   "outputs": [],
   "source": [
    "BATCH_SIZE = 32\n",
    "train_dataset = NewsGroupDataset(train_data_indices, train_targets)\n",
    "train_loader = torch.utils.data.DataLoader(dataset=train_dataset, \n",
    "                                           batch_size=BATCH_SIZE,\n",
    "                                           collate_fn=newsgroup_collate_func,\n",
    "                                           shuffle=True)\n",
    "\n",
    "val_dataset = NewsGroupDataset(val_data_indices, val_targets)\n",
    "val_loader = torch.utils.data.DataLoader(dataset=val_dataset, \n",
    "                                           batch_size=BATCH_SIZE,\n",
    "                                           collate_fn=newsgroup_collate_func,\n",
    "                                           shuffle=True)\n",
    "\n",
    "test_dataset = NewsGroupDataset(test_data_indices, test_targets)\n",
    "test_loader = torch.utils.data.DataLoader(dataset=test_dataset, \n",
    "                                           batch_size=BATCH_SIZE,\n",
    "                                           collate_fn=newsgroup_collate_func,\n",
    "                                           shuffle=False)\n",
    "\n",
    "model = BagOfWords(len(id2token), emb_dim)\n",
    "\n",
    "num_epochs = 5 # number epoch to train\n",
    "\n",
    "# Criterion and Optimizer\n",
    "criterion = torch.nn.CrossEntropyLoss()  \n",
    "optimizer = torch.optim.Adam(model.parameters(), lr=learning_rate)\n"
   ]
  },
  {
   "cell_type": "code",
   "execution_count": 14,
   "metadata": {},
   "outputs": [
    {
     "name": "stdout",
     "output_type": "stream",
     "text": [
      "Tokenize: lower case\n",
      "Epoch: [1/5], Step: [625/625], Train loss: 0.2772720754146576, Train acc: 86.755, Validation Acc: 84.1\n",
      "Epoch: [2/5], Step: [625/625], Train loss: 0.3637368679046631, Train acc: 91.545, Validation Acc: 87.4\n",
      "Epoch: [3/5], Step: [625/625], Train loss: 0.20252180099487305, Train acc: 94.18, Validation Acc: 88.46\n",
      "Epoch: [4/5], Step: [625/625], Train loss: 0.18206924200057983, Train acc: 95.71, Validation Acc: 88.6\n",
      "Epoch: [5/5], Step: [625/625], Train loss: 0.10633857548236847, Train acc: 96.86, Validation Acc: 88.44\n"
     ]
    }
   ],
   "source": [
    "val_acc_lower = []\n",
    "train_acc_lower = []\n",
    "\n",
    "print('Tokenize: lower case')\n",
    "for epoch in range(num_epochs):\n",
    "    for i, (data, lengths, labels) in enumerate(train_loader):\n",
    "        model.train()\n",
    "        data_batch, length_batch, label_batch = data, lengths, labels\n",
    "        optimizer.zero_grad()\n",
    "        outputs = model(data_batch, length_batch)\n",
    "        loss = criterion(outputs, label_batch)\n",
    "        loss.backward()\n",
    "        optimizer.step()\n",
    "        # validate every 625 iterations\n",
    "        if i > 0 and i % 624 == 0:\n",
    "            # validate\n",
    "            val_acc = test_model(val_loader, model)\n",
    "            train_acc = test_model(train_loader, model)\n",
    "            print('Epoch: [{}/{}], Step: [{}/{}], Train loss: {}, Train acc: {}, Validation Acc: {}'.format( \n",
    "                       epoch+1, num_epochs, i+1, len(train_loader), loss, train_acc, val_acc))\n",
    "            train_acc_lower.append(train_acc)\n",
    "            val_acc_lower.append(val_acc)"
   ]
  },
  {
   "cell_type": "markdown",
   "metadata": {},
   "source": [
    "### Tokenize - lower, remove punctuations"
   ]
  },
  {
   "cell_type": "code",
   "execution_count": 7,
   "metadata": {
    "collapsed": true
   },
   "outputs": [],
   "source": [
    "train_lp = pkl.load(open(\"train_data_tokens.p\", \"rb\"))\n",
    "all_train_lp = pkl.load(open(\"all_train_tokens.p\", \"rb\"))\n",
    "\n",
    "val_lp = pkl.load(open(\"val_data_tokens.p\", \"rb\"))\n",
    "test_lp = pkl.load(open(\"test_data_tokens.p\", \"rb\"))"
   ]
  },
  {
   "cell_type": "code",
   "execution_count": 23,
   "metadata": {
    "collapsed": true
   },
   "outputs": [],
   "source": [
    "token2id, id2token = build_vocab(all_train_lp)\n",
    "\n",
    "train_data_indices = token2index_dataset(train_lp)\n",
    "val_data_indices = token2index_dataset(val_lp)\n",
    "test_data_indices = token2index_dataset(test_lp)"
   ]
  },
  {
   "cell_type": "code",
   "execution_count": 24,
   "metadata": {
    "collapsed": true
   },
   "outputs": [],
   "source": [
    "BATCH_SIZE = 32\n",
    "train_dataset = NewsGroupDataset(train_data_indices, train_targets)\n",
    "train_loader = torch.utils.data.DataLoader(dataset=train_dataset, \n",
    "                                           batch_size=BATCH_SIZE,\n",
    "                                           collate_fn=newsgroup_collate_func,\n",
    "                                           shuffle=True)\n",
    "\n",
    "val_dataset = NewsGroupDataset(val_data_indices, val_targets)\n",
    "val_loader = torch.utils.data.DataLoader(dataset=val_dataset, \n",
    "                                           batch_size=BATCH_SIZE,\n",
    "                                           collate_fn=newsgroup_collate_func,\n",
    "                                           shuffle=True)\n",
    "\n",
    "test_dataset = NewsGroupDataset(test_data_indices, test_targets)\n",
    "test_loader = torch.utils.data.DataLoader(dataset=test_dataset, \n",
    "                                           batch_size=BATCH_SIZE,\n",
    "                                           collate_fn=newsgroup_collate_func,\n",
    "                                           shuffle=False)\n",
    "\n",
    "model = BagOfWords(len(id2token), emb_dim)\n",
    "\n",
    "num_epochs = 5 # number epoch to train\n",
    "\n",
    "# Criterion and Optimizer\n",
    "criterion = torch.nn.CrossEntropyLoss()  \n",
    "optimizer = torch.optim.Adam(model.parameters(), lr=learning_rate)\n"
   ]
  },
  {
   "cell_type": "code",
   "execution_count": 17,
   "metadata": {},
   "outputs": [
    {
     "name": "stdout",
     "output_type": "stream",
     "text": [
      "Tokenize: lower case, remove punctuations\n",
      "Epoch: [1/5], Step: [625/625], Train loss: 0.29365330934524536, Train acc: 87.32, Validation Acc: 84.96\n",
      "Epoch: [2/5], Step: [625/625], Train loss: 0.20181486010551453, Train acc: 92.125, Validation Acc: 87.86\n",
      "Epoch: [3/5], Step: [625/625], Train loss: 0.12869715690612793, Train acc: 94.42, Validation Acc: 88.82\n",
      "Epoch: [4/5], Step: [625/625], Train loss: 0.12102694809436798, Train acc: 96.225, Validation Acc: 89.32\n",
      "Epoch: [5/5], Step: [625/625], Train loss: 0.07878977060317993, Train acc: 97.33, Validation Acc: 88.88\n"
     ]
    }
   ],
   "source": [
    "val_acc_lp = []\n",
    "train_acc_lp = []\n",
    "\n",
    "print('Tokenize: lower case, remove punctuations')\n",
    "for epoch in range(num_epochs):\n",
    "    for i, (data, lengths, labels) in enumerate(train_loader):\n",
    "        model.train()\n",
    "        data_batch, length_batch, label_batch = data, lengths, labels\n",
    "        optimizer.zero_grad()\n",
    "        outputs = model(data_batch, length_batch)\n",
    "        loss = criterion(outputs, label_batch)\n",
    "        loss.backward()\n",
    "        optimizer.step()\n",
    "        # validate every 625 iterations\n",
    "        if i > 0 and i % 624 == 0:\n",
    "            # validate\n",
    "            val_acc = test_model(val_loader, model)\n",
    "            train_acc = test_model(train_loader, model)\n",
    "            print('Epoch: [{}/{}], Step: [{}/{}], Train loss: {}, Train acc: {}, Validation Acc: {}'.format( \n",
    "                       epoch+1, num_epochs, i+1, len(train_loader), loss, train_acc, val_acc))\n",
    "            train_acc_lp.append(train_acc)\n",
    "            val_acc_lp.append(val_acc)"
   ]
  },
  {
   "cell_type": "markdown",
   "metadata": {},
   "source": [
    "### Tokenize - lower, remove punctuations, stopwords"
   ]
  },
  {
   "cell_type": "code",
   "execution_count": 8,
   "metadata": {
    "collapsed": true
   },
   "outputs": [],
   "source": [
    "train_lpsw = pkl.load(open(\"train_lowerpunc_stopw.p\", \"rb\"))\n",
    "all_train_lpsw = pkl.load(open(\"all_train_lowerpunc_stopw.p\", \"rb\"))\n",
    "\n",
    "val_lpsw = pkl.load(open(\"val_lowerpunc_stopw.p\", \"rb\"))\n",
    "test_lpsw = pkl.load(open(\"test_lowerpunc_stopw.p\", \"rb\"))"
   ]
  },
  {
   "cell_type": "code",
   "execution_count": 18,
   "metadata": {
    "collapsed": true
   },
   "outputs": [],
   "source": [
    "token2id, id2token = build_vocab(all_train_lpsw)\n",
    "\n",
    "train_data_indices = token2index_dataset(train_lpsw)\n",
    "val_data_indices = token2index_dataset(val_lpsw)\n",
    "test_data_indices = token2index_dataset(test_lpsw)"
   ]
  },
  {
   "cell_type": "code",
   "execution_count": 19,
   "metadata": {
    "collapsed": true
   },
   "outputs": [],
   "source": [
    "BATCH_SIZE = 32\n",
    "train_dataset = NewsGroupDataset(train_data_indices, train_targets)\n",
    "train_loader = torch.utils.data.DataLoader(dataset=train_dataset, \n",
    "                                           batch_size=BATCH_SIZE,\n",
    "                                           collate_fn=newsgroup_collate_func,\n",
    "                                           shuffle=True)\n",
    "\n",
    "val_dataset = NewsGroupDataset(val_data_indices, val_targets)\n",
    "val_loader = torch.utils.data.DataLoader(dataset=val_dataset, \n",
    "                                           batch_size=BATCH_SIZE,\n",
    "                                           collate_fn=newsgroup_collate_func,\n",
    "                                           shuffle=True)\n",
    "\n",
    "test_dataset = NewsGroupDataset(test_data_indices, test_targets)\n",
    "test_loader = torch.utils.data.DataLoader(dataset=test_dataset, \n",
    "                                           batch_size=BATCH_SIZE,\n",
    "                                           collate_fn=newsgroup_collate_func,\n",
    "                                           shuffle=False)\n",
    "\n",
    "model = BagOfWords(len(id2token), emb_dim)\n",
    "\n",
    "num_epochs = 5 # number epoch to train\n",
    "\n",
    "# Criterion and Optimizer\n",
    "criterion = torch.nn.CrossEntropyLoss()  \n",
    "optimizer = torch.optim.Adam(model.parameters(), lr=learning_rate)\n"
   ]
  },
  {
   "cell_type": "code",
   "execution_count": 20,
   "metadata": {},
   "outputs": [
    {
     "name": "stdout",
     "output_type": "stream",
     "text": [
      "Tokenize: lower case, remove punctuations, remove stopwords\n",
      "Epoch: [1/5], Step: [625/625], Train loss: 0.3604917824268341, Train acc: 89.805, Validation Acc: 86.8\n",
      "Epoch: [2/5], Step: [625/625], Train loss: 0.34660711884498596, Train acc: 94.055, Validation Acc: 89.0\n",
      "Epoch: [3/5], Step: [625/625], Train loss: 0.14898227155208588, Train acc: 96.475, Validation Acc: 89.14\n",
      "Epoch: [4/5], Step: [625/625], Train loss: 0.07438864558935165, Train acc: 97.925, Validation Acc: 88.84\n",
      "Epoch: [5/5], Step: [625/625], Train loss: 0.04629206657409668, Train acc: 98.95, Validation Acc: 88.78\n"
     ]
    }
   ],
   "source": [
    "val_acc_lpsw = []\n",
    "train_acc_lpsw = []\n",
    "\n",
    "print('Tokenize: lower case, remove punctuations, remove stopwords')\n",
    "for epoch in range(num_epochs):\n",
    "    for i, (data, lengths, labels) in enumerate(train_loader):\n",
    "        model.train()\n",
    "        data_batch, length_batch, label_batch = data, lengths, labels\n",
    "        optimizer.zero_grad()\n",
    "        outputs = model(data_batch, length_batch)\n",
    "        loss = criterion(outputs, label_batch)\n",
    "        loss.backward()\n",
    "        optimizer.step()\n",
    "        # validate every 625 iterations\n",
    "        if i > 0 and i % 624 == 0:\n",
    "            # validate\n",
    "            val_acc = test_model(val_loader, model)\n",
    "            train_acc = test_model(train_loader, model)\n",
    "            print('Epoch: [{}/{}], Step: [{}/{}], Train loss: {}, Train acc: {}, Validation Acc: {}'.format( \n",
    "                       epoch+1, num_epochs, i+1, len(train_loader), loss, train_acc, val_acc))\n",
    "            train_acc_lpsw.append(train_acc)\n",
    "            val_acc_lpsw.append(val_acc)"
   ]
  },
  {
   "cell_type": "markdown",
   "metadata": {},
   "source": [
    "## Plot accuracy"
   ]
  },
  {
   "cell_type": "code",
   "execution_count": 21,
   "metadata": {},
   "outputs": [
    {
     "data": {
      "image/png": "[encoded data removed]",
      "text/plain": [
       "<Figure size 864x504 with 1 Axes>"
      ]
     },
     "metadata": {},
     "output_type": "display_data"
    }
   ],
   "source": [
    "fig = plt.figure(1,figsize = (12,7)) \n",
    "ax = plt.subplot(111)\n",
    "x_rge = list(range(1,6))\n",
    "\n",
    "plt.plot(x_rge,train_acc_none,label=\"none\")\n",
    "plt.plot(x_rge,train_acc_lower,label=\"lower\")\n",
    "plt.plot(x_rge,train_acc_lp,label=\"lower,punc\")\n",
    "plt.plot(x_rge,train_acc_lpsw,label=\"lower,punc,stopw\")\n",
    "\n",
    "plt.xlim(0,7)\n",
    "plt.legend(loc=1)\n",
    "plt.xlabel(\"Number of Epoches\")\n",
    "plt.ylabel(\"Training Accuracy\")\n",
    "plt.title(\"Tokenization Schemes\")\n",
    "plt.show()"
   ]
  },
  {
   "cell_type": "code",
   "execution_count": 22,
   "metadata": {},
   "outputs": [
    {
     "data": {
      "image/png": "[encoded data removed]",
      "text/plain": [
       "<Figure size 864x504 with 1 Axes>"
      ]
     },
     "metadata": {},
     "output_type": "display_data"
    }
   ],
   "source": [
    "fig = plt.figure(2,figsize = (12,7)) \n",
    "ax = plt.subplot(111)\n",
    "x_rge = list(range(1,6))\n",
    "\n",
    "plt.plot(x_rge,val_acc_none,label=\"none\")\n",
    "plt.plot(x_rge,val_acc_lower,label=\"lower\")\n",
    "plt.plot(x_rge,val_acc_lp,label=\"lower,punc\")\n",
    "plt.plot(x_rge,val_acc_lpsw,label=\"lower,punc,stopw\")\n",
    "\n",
    "plt.xlim(0,7)\n",
    "plt.legend(loc=1)\n",
    "plt.xlabel(\"Number of Epoches\")\n",
    "plt.ylabel(\"Validation Accuracy\")\n",
    "plt.title(\"Tokenization Schemes\")\n",
    "plt.show()"
   ]
  },
  {
   "cell_type": "markdown",
   "metadata": {},
   "source": [
    "## Correct/Incorrect Predictions"
   ]
  },
  {
   "cell_type": "code",
   "execution_count": 23,
   "metadata": {
    "collapsed": true
   },
   "outputs": [],
   "source": [
    "token2id, id2token = build_vocab(all_train_lp)\n",
    "\n",
    "train_data_indices = token2index_dataset(train_lp)\n",
    "val_data_indices = token2index_dataset(val_lp)\n",
    "test_data_indices = token2index_dataset(test_lp)"
   ]
  },
  {
   "cell_type": "code",
   "execution_count": 38,
   "metadata": {
    "collapsed": true
   },
   "outputs": [],
   "source": [
    "BATCH_SIZE = 32\n",
    "train_dataset = NewsGroupDataset(train_data_indices, train_targets)\n",
    "train_loader = torch.utils.data.DataLoader(dataset=train_dataset, \n",
    "                                           batch_size=BATCH_SIZE,\n",
    "                                           collate_fn=newsgroup_collate_func,\n",
    "                                           shuffle=True)\n",
    "\n",
    "val_dataset = NewsGroupDataset(val_data_indices, val_targets)\n",
    "val_loader = torch.utils.data.DataLoader(dataset=val_dataset, \n",
    "                                           batch_size=BATCH_SIZE,\n",
    "                                           collate_fn=newsgroup_collate_func,\n",
    "                                           shuffle=False)\n",
    "\n",
    "test_dataset = NewsGroupDataset(test_data_indices, test_targets)\n",
    "test_loader = torch.utils.data.DataLoader(dataset=test_dataset, \n",
    "                                           batch_size=BATCH_SIZE,\n",
    "                                           collate_fn=newsgroup_collate_func,\n",
    "                                           shuffle=False)\n",
    "\n",
    "model = BagOfWords(len(id2token), emb_dim)\n",
    "\n",
    "num_epochs = 5 # number epoch to train\n",
    "\n",
    "# Criterion and Optimizer\n",
    "criterion = torch.nn.CrossEntropyLoss()  \n",
    "optimizer = torch.optim.Adam(model.parameters(), lr=learning_rate)\n"
   ]
  },
  {
   "cell_type": "code",
   "execution_count": 39,
   "metadata": {},
   "outputs": [
    {
     "name": "stdout",
     "output_type": "stream",
     "text": [
      "Tokenize: lower case, remove punctuations\n",
      "Epoch: [1/5], Step: [625/625], Train loss: 0.49076271057128906, Train acc: 87.385, Validation Acc: 84.72\n",
      "Epoch: [2/5], Step: [625/625], Train loss: 0.44643861055374146, Train acc: 92.14, Validation Acc: 87.7\n",
      "Epoch: [3/5], Step: [625/625], Train loss: 0.17615312337875366, Train acc: 94.34, Validation Acc: 88.3\n",
      "Epoch: [4/5], Step: [625/625], Train loss: 0.1878061592578888, Train acc: 95.93, Validation Acc: 89.02\n",
      "Epoch: [5/5], Step: [625/625], Train loss: 0.11846697330474854, Train acc: 97.345, Validation Acc: 88.94\n"
     ]
    }
   ],
   "source": [
    "print('Tokenize: lower case, remove punctuations')\n",
    "for epoch in range(num_epochs):\n",
    "    for i, (data, lengths, labels) in enumerate(train_loader):\n",
    "        model.train()\n",
    "        data_batch, length_batch, label_batch = data, lengths, labels\n",
    "        optimizer.zero_grad()\n",
    "        outputs = model(data_batch, length_batch)\n",
    "        loss = criterion(outputs, label_batch)\n",
    "        loss.backward()\n",
    "        optimizer.step()\n",
    "        # validate every 625 iterations\n",
    "        if i > 0 and i % 624 == 0:\n",
    "            # validate\n",
    "            val_acc = test_model(val_loader, model)\n",
    "            train_acc = test_model(train_loader, model)\n",
    "            print('Epoch: [{}/{}], Step: [{}/{}], Train loss: {}, Train acc: {}, Validation Acc: {}'.format( \n",
    "                       epoch+1, num_epochs, i+1, len(train_loader), loss, train_acc, val_acc))"
   ]
  },
  {
   "cell_type": "code",
   "execution_count": 40,
   "metadata": {
    "collapsed": true
   },
   "outputs": [],
   "source": [
    "def get_prediction(loader, model):\n",
    "    index_arr = []\n",
    "    model.eval()\n",
    "    for data, lengths, labels in loader:\n",
    "        data_batch, length_batch, label_batch = data, lengths, labels\n",
    "        outputs = F.softmax(model(data_batch, length_batch), dim=1)\n",
    "        predicted = outputs.max(1, keepdim=True)[1]\n",
    "        equal_label = torch.eq(predicted.view_as(labels),labels)\n",
    "        index_arr.append(np.argwhere(equal_label.numpy()))\n",
    "    return index_arr"
   ]
  },
  {
   "cell_type": "code",
   "execution_count": 41,
   "metadata": {},
   "outputs": [],
   "source": [
    "ind = get_prediction(val_loader,model)"
   ]
  },
  {
   "cell_type": "code",
   "execution_count": 44,
   "metadata": {},
   "outputs": [
    {
     "name": "stdout",
     "output_type": "stream",
     "text": [
      "0 31\n",
      "1 26\n",
      "2 29\n",
      "3 29\n",
      "4 25\n",
      "5 28\n",
      "6 29\n",
      "7 25\n",
      "8 28\n",
      "9 29\n",
      "10 31\n",
      "11 28\n",
      "12 27\n",
      "13 29\n",
      "14 29\n",
      "15 31\n",
      "16 25\n",
      "17 26\n",
      "18 25\n",
      "19 28\n",
      "20 29\n",
      "21 30\n",
      "22 29\n",
      "23 29\n",
      "24 26\n",
      "25 27\n",
      "26 25\n",
      "27 28\n",
      "28 26\n",
      "29 31\n",
      "30 30\n",
      "31 27\n",
      "32 27\n",
      "33 26\n",
      "34 19\n",
      "35 29\n",
      "36 29\n",
      "37 26\n",
      "38 24\n",
      "39 27\n",
      "40 30\n",
      "41 25\n",
      "42 30\n",
      "43 30\n",
      "44 28\n",
      "45 27\n",
      "46 27\n",
      "47 28\n",
      "48 28\n",
      "49 27\n",
      "50 29\n",
      "51 24\n",
      "52 30\n",
      "53 28\n",
      "54 26\n",
      "55 27\n",
      "56 24\n",
      "57 26\n",
      "58 28\n",
      "59 26\n",
      "60 28\n",
      "61 28\n",
      "62 28\n",
      "63 29\n",
      "64 29\n",
      "65 24\n",
      "66 27\n",
      "67 29\n",
      "68 28\n",
      "69 28\n",
      "70 28\n",
      "71 30\n",
      "72 30\n",
      "73 30\n",
      "74 30\n",
      "75 29\n",
      "76 28\n",
      "77 25\n",
      "78 29\n",
      "79 30\n",
      "80 28\n",
      "81 31\n",
      "82 28\n",
      "83 26\n",
      "84 28\n",
      "85 29\n",
      "86 29\n",
      "87 30\n",
      "88 25\n",
      "89 32\n",
      "90 32\n",
      "91 29\n",
      "92 28\n",
      "93 31\n",
      "94 31\n",
      "95 26\n",
      "96 28\n",
      "97 28\n",
      "98 30\n",
      "99 31\n",
      "100 30\n",
      "101 26\n",
      "102 29\n",
      "103 31\n",
      "104 29\n",
      "105 30\n",
      "106 30\n",
      "107 32\n",
      "108 31\n",
      "109 30\n",
      "110 30\n",
      "111 30\n",
      "112 27\n",
      "113 29\n",
      "114 29\n",
      "115 29\n",
      "116 29\n",
      "117 29\n",
      "118 29\n",
      "119 29\n",
      "120 28\n",
      "121 30\n",
      "122 31\n",
      "123 28\n",
      "124 29\n",
      "125 28\n",
      "126 29\n",
      "127 29\n",
      "128 25\n",
      "129 28\n",
      "130 30\n",
      "131 32\n",
      "132 30\n",
      "133 30\n",
      "134 31\n",
      "135 26\n",
      "136 28\n",
      "137 30\n",
      "138 30\n",
      "139 28\n",
      "140 31\n",
      "141 31\n",
      "142 30\n",
      "143 32\n",
      "144 32\n",
      "145 29\n",
      "146 27\n",
      "147 32\n",
      "148 30\n",
      "149 31\n",
      "150 26\n",
      "151 30\n",
      "152 29\n",
      "153 30\n",
      "154 28\n",
      "155 27\n",
      "156 7\n"
     ]
    }
   ],
   "source": [
    "for i in range(0,len(ind)):\n",
    "    print(i,len(ind[i]))"
   ]
  },
  {
   "cell_type": "code",
   "execution_count": 66,
   "metadata": {},
   "outputs": [
    {
     "data": {
      "text/plain": [
       "array([[0],\n",
       "       [1],\n",
       "       [3],\n",
       "       [4],\n",
       "       [5],\n",
       "       [6],\n",
       "       [7]])"
      ]
     },
     "execution_count": 66,
     "metadata": {},
     "output_type": "execute_result"
    }
   ],
   "source": [
    "ind[156] #4994"
   ]
  },
  {
   "cell_type": "code",
   "execution_count": 59,
   "metadata": {},
   "outputs": [
    {
     "data": {
      "text/plain": [
       "26"
      ]
     },
     "execution_count": 59,
     "metadata": {},
     "output_type": "execute_result"
    }
   ],
   "source": [
    "len(ind[1]) #37,38,31+11=44,31+22=53"
   ]
  },
  {
   "cell_type": "code",
   "execution_count": 48,
   "metadata": {
    "collapsed": true
   },
   "outputs": [],
   "source": [
    "def load_data(files):\n",
    "    data = []\n",
    "    for name in files:\n",
    "        try:\n",
    "            with open(name) as f:\n",
    "                for line in f:\n",
    "                    data.append(line)\n",
    "        except IOError as exc:\n",
    "            if exc.errno != errno.EISDIR:\n",
    "                raise\n",
    "    return data"
   ]
  },
  {
   "cell_type": "code",
   "execution_count": 49,
   "metadata": {
    "collapsed": true
   },
   "outputs": [],
   "source": [
    "path = os.getcwd()+'/aclImdb/train/pos/*.txt'\n",
    "files = glob.glob(path)\n",
    "train_pos_data = load_data(files)\n",
    "\n",
    "path = os.getcwd()+'/aclImdb/train/neg/*.txt'\n",
    "files = glob.glob(path)\n",
    "train_neg_data = load_data(files)\n",
    "\n",
    "train_split = 10000\n",
    "train_data = train_pos_data[:train_split] + train_neg_data[:train_split]\n",
    "train_targets = ([1]*train_split) + ([0]*train_split)\n",
    "\n",
    "val_data = train_pos_data[train_split:] + train_neg_data[train_split:]\n",
    "val_targets = ([1]*(len(train_pos_data)-train_split)) + ([0]*(len(train_pos_data)-train_split))"
   ]
  },
  {
   "cell_type": "code",
   "execution_count": 50,
   "metadata": {},
   "outputs": [
    {
     "data": {
      "text/plain": [
       "\"I went to see Vanilla Sky with a huge, huge, huge!!..Tom Cruise fan, my extremely cynical brother and my girlfriend ... what can I say .. I was totally blown away by the movie and especially TC's performance, I thought it was a very moving film and it was not at all what I was expecting.<br /><br />I had read the reviews and had decided not to go and see it, I am so pleased that I was 'coerced 'into seeing it. The strange thing is I cannot say why, all I can say is that I found it totally involving and could not stop thinking about it the next day. As to what I felt about the film, all I can say about is, ITS NOT THE STORYLINE (fantasy, psychodrama, whatever) its about the people and the events that shape their life and how small events, like getting into a car can change everything......<br /><br />As to what the critics wrote, yes maybe the original was a stunning 2nd film for Alejandro Amenábar , but this was a totally different interpretation of the subject, and by no means a narcissistic remake for the benefit of Tom Cruise and Penelope Cruz.<br /><br />I cannot even consider writing a couple of trite, glib sentences to describe the film just go and see it!!!!<br /><br />Yes I know this isn't a balanced thoughtful review but so what .It's not that kind of film.\""
      ]
     },
     "execution_count": 50,
     "metadata": {},
     "output_type": "execute_result"
    }
   ],
   "source": [
    "val_data[37]"
   ]
  },
  {
   "cell_type": "code",
   "execution_count": 56,
   "metadata": {},
   "outputs": [
    {
     "data": {
      "text/plain": [
       "1"
      ]
     },
     "execution_count": 56,
     "metadata": {},
     "output_type": "execute_result"
    }
   ],
   "source": [
    "val_targets[37]"
   ]
  },
  {
   "cell_type": "code",
   "execution_count": 51,
   "metadata": {},
   "outputs": [
    {
     "data": {
      "text/plain": [
       "'This is the kind of film for a snowy Sunday afternoon when the rest of the world can go ahead with its own business as you descend into a big arm-chair and mellow for a couple of hours. Wonderful performances from Cher and Nicolas Cage (as always) gently row the plot along. There are no rapids to cross, no dangerous waters, just a warm and witty paddle through New York life at its best. A family film in every sense and one that deserves the praise it received.'"
      ]
     },
     "execution_count": 51,
     "metadata": {},
     "output_type": "execute_result"
    }
   ],
   "source": [
    "val_data[44]"
   ]
  },
  {
   "cell_type": "code",
   "execution_count": 54,
   "metadata": {},
   "outputs": [
    {
     "data": {
      "text/plain": [
       "1"
      ]
     },
     "execution_count": 54,
     "metadata": {},
     "output_type": "execute_result"
    }
   ],
   "source": [
    "val_targets[44]"
   ]
  },
  {
   "cell_type": "code",
   "execution_count": 67,
   "metadata": {},
   "outputs": [
    {
     "data": {
      "text/plain": [
       "'Richard Farnsworth is one of my favorite actors. He usually gives solid performances, such as in The Straight Story, and The Grey Fox. He also does fairly well here, but the rest of the film suffers from a low budget, poor writing, and so-so photography. The Miller-Movie formula gives it a 4. Richard gets a 5.'"
      ]
     },
     "execution_count": 67,
     "metadata": {},
     "output_type": "execute_result"
    }
   ],
   "source": [
    "val_data[4994]"
   ]
  },
  {
   "cell_type": "code",
   "execution_count": 68,
   "metadata": {},
   "outputs": [
    {
     "data": {
      "text/plain": [
       "0"
      ]
     },
     "execution_count": 68,
     "metadata": {},
     "output_type": "execute_result"
    }
   ],
   "source": [
    "val_targets[4994]"
   ]
  },
  {
   "cell_type": "markdown",
   "metadata": {},
   "source": [
    "### correct prediction"
   ]
  },
  {
   "cell_type": "code",
   "execution_count": 60,
   "metadata": {},
   "outputs": [
    {
     "data": {
      "text/plain": [
       "\"This Columbo episode is probably noted more for the director, Steven Spielberg, as one of his early films. It should be looked at for Jack Cassidy's role as the murderer who kills his partner in writing to maintain his lifestyle. Jack Cassidy would appear in a later Columbo. After all, Columbo meets his match in Jack Cassidy's character. He is a mystery writer who plots to perform the perfect murder. After his first murder, his next victim would be the annoying general store owner/widow who would blackmail him for money. Rather than losing more money, he kills her. It is very entertaining to watch Cassidy and Falk as always. Falk's familiarity as Columbo makes him watchable after viewing this episode repeatedly over the years. What television today forgets about the success of years is that people will want to watch the shows again and again if they like the characters. It's not about who does it, how and why, it the familiarness of Columbo and his likability which scores high with viewers like myself.\""
      ]
     },
     "execution_count": 60,
     "metadata": {},
     "output_type": "execute_result"
    }
   ],
   "source": [
    "val_data[31]"
   ]
  },
  {
   "cell_type": "code",
   "execution_count": 61,
   "metadata": {},
   "outputs": [
    {
     "data": {
      "text/plain": [
       "1"
      ]
     },
     "execution_count": 61,
     "metadata": {},
     "output_type": "execute_result"
    }
   ],
   "source": [
    "val_targets[31]"
   ]
  },
  {
   "cell_type": "code",
   "execution_count": 62,
   "metadata": {},
   "outputs": [
    {
     "data": {
      "text/plain": [
       "\"I know many people have a special fondness for the Alistair Sim version of Dickens' story, but for me, this 1984 version is the one to beat. My wife and I own a copy of this film on VHS, and we watch it together every Christmas Eve. I often remark that we could watch it on Halloween too, because it's a very creepy ghost story.<br /><br />Scott--typecast as Scrooge--is shudderingly mean and nasty, making his transformation all the more miraculous and moving. I think it's up there with his performance in Patton. The spirits are all effective, each one creepier than the last. Watching the dark, floating, skeletal form of the Spirit of Christmas Yet to Come sends shivers down my spine every year. And what a supporting cast! David Warner, in particular, is in top form as Bob Cratchit, as is Susannah York as his wife. <br /><br />I seem to recall that this version sticks closer to the original story than most others--but I may be mistaken, as it's been several years since I read it. Regardless, this is a terrific Christmas classic.\""
      ]
     },
     "execution_count": 62,
     "metadata": {},
     "output_type": "execute_result"
    }
   ],
   "source": [
    "val_data[40]"
   ]
  },
  {
   "cell_type": "code",
   "execution_count": 63,
   "metadata": {},
   "outputs": [
    {
     "data": {
      "text/plain": [
       "1"
      ]
     },
     "execution_count": 63,
     "metadata": {},
     "output_type": "execute_result"
    }
   ],
   "source": [
    "val_targets[40]"
   ]
  },
  {
   "cell_type": "code",
   "execution_count": 69,
   "metadata": {},
   "outputs": [
    {
     "data": {
      "text/plain": [
       "'Not that I dislike childrens movies, but this was a tearjerker with few redeeming qualities. M.J. Fox was the perfect voice for Stuart and the rest of the talent was wasted. Hugh Laurie can be amazingly funny, but is not given the chance in this movie. It´s sugar-coated sugar and would hardly appeal to anyone over 7 years of age. See Toy Story, Monsters Inc. or Shrek instead. 3/10'"
      ]
     },
     "execution_count": 69,
     "metadata": {},
     "output_type": "execute_result"
    }
   ],
   "source": [
    "val_data[4999]"
   ]
  },
  {
   "cell_type": "code",
   "execution_count": 70,
   "metadata": {},
   "outputs": [
    {
     "data": {
      "text/plain": [
       "0"
      ]
     },
     "execution_count": 70,
     "metadata": {},
     "output_type": "execute_result"
    }
   ],
   "source": [
    "val_targets[4999]"
   ]
  },
  {
   "cell_type": "code",
   "execution_count": 77,
   "metadata": {},
   "outputs": [
    {
     "data": {
      "text/plain": [
       "'Oh, those Italians! Assuming that movies about aristocrats with weird fetishes, castles drowned in gothic atmosphere, and back-stabbing relatives trying to get their hands on an inheritance are inherently interesting to all! If you\\'ve seen one film of this type, you\\'ve basically seen them all (the MST3K favorite \"Screaming Skull\" fits the mold, too)...and \"The Night Evelyn Came Out of the Grave\" is formulaic, by-the-numbers, and dull as hell. Even the luscious Erika Blanc is put to waste here.<br /><br />zero/10<br /><br />'"
      ]
     },
     "execution_count": 77,
     "metadata": {},
     "output_type": "execute_result"
    }
   ],
   "source": [
    "val_data[4997]\n"
   ]
  },
  {
   "cell_type": "code",
   "execution_count": 78,
   "metadata": {},
   "outputs": [
    {
     "data": {
      "text/plain": [
       "0"
      ]
     },
     "execution_count": 78,
     "metadata": {},
     "output_type": "execute_result"
    }
   ],
   "source": [
    "val_targets[4997]"
   ]
  },
  {
   "cell_type": "markdown",
   "metadata": {},
   "source": [
    "## Test Performance"
   ]
  },
  {
   "cell_type": "code",
   "execution_count": 71,
   "metadata": {
    "collapsed": true
   },
   "outputs": [],
   "source": [
    "test_acc = test_model(test_loader,model)"
   ]
  },
  {
   "cell_type": "code",
   "execution_count": 72,
   "metadata": {},
   "outputs": [
    {
     "data": {
      "text/plain": [
       "87.288"
      ]
     },
     "execution_count": 72,
     "metadata": {},
     "output_type": "execute_result"
    }
   ],
   "source": [
    "test_acc"
   ]
  },
  {
   "cell_type": "code",
   "execution_count": null,
   "metadata": {
    "collapsed": true
   },
   "outputs": [],
   "source": []
  },
  {
   "cell_type": "code",
   "execution_count": null,
   "metadata": {
    "collapsed": true
   },
   "outputs": [],
   "source": []
  }
 ],
 "metadata": {
  "kernelspec": {
   "display_name": "Python 3",
   "language": "python",
   "name": "python3"
  },
  "language_info": {
   "codemirror_mode": {
    "name": "ipython",
    "version": 3
   },
   "file_extension": ".py",
   "mimetype": "text/x-python",
   "name": "python",
   "nbconvert_exporter": "python",
   "pygments_lexer": "ipython3",
   "version": "3.6.6"
  }
 },
 "nbformat": 4,
 "nbformat_minor": 2
}
