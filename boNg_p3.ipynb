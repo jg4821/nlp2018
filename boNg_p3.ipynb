{
 "cells": [
  {
   "cell_type": "code",
   "execution_count": 1,
   "metadata": {
    "collapsed": true
   },
   "outputs": [],
   "source": [
    "import numpy as np\n",
    "import pandas as pd\n",
    "import glob\n",
    "import errno\n",
    "import os\n",
    "import random\n",
    "import spacy\n",
    "import string\n",
    "import pickle as pkl\n",
    "from collections import Counter\n",
    "\n",
    "import torch\n",
    "from torch.utils.data import Dataset\n",
    "import torch\n",
    "import torch.nn as nn\n",
    "import torch.nn.functional as F\n",
    "\n",
    "import matplotlib.pyplot as plt\n",
    "% matplotlib inline"
   ]
  },
  {
   "cell_type": "code",
   "execution_count": 3,
   "metadata": {
    "collapsed": true
   },
   "outputs": [],
   "source": [
    "def build_vocab(all_tokens):\n",
    "    # Returns:\n",
    "    # id2token: list of tokens, where id2token[i] returns token that corresponds to token i\n",
    "    # token2id: dictionary where keys represent tokens and corresponding values represent indices\n",
    "    token_counter = Counter(all_tokens)\n",
    "    vocab, count = zip(*token_counter.most_common(max_vocab_size))\n",
    "    id2token = list(vocab)\n",
    "    token2id = dict(zip(vocab, range(2,2+len(vocab)))) \n",
    "    id2token = ['<pad>', '<unk>'] + id2token\n",
    "    token2id['<pad>'] = PAD_IDX \n",
    "    token2id['<unk>'] = UNK_IDX\n",
    "    return token2id, id2token\n",
    "\n",
    "# convert token to id in the dataset\n",
    "def token2index_dataset(tokens_data):\n",
    "    indices_data = []\n",
    "    for tokens in tokens_data:\n",
    "        index_list = [token2id[token] if token in token2id else UNK_IDX for token in tokens]\n",
    "        indices_data.append(index_list)\n",
    "    return indices_data\n",
    "\n",
    "class NewsGroupDataset(Dataset):\n",
    "    \"\"\"\n",
    "    Class that represents a train/validation/test dataset that's readable for PyTorch\n",
    "    Note that this class inherits torch.utils.data.Dataset\n",
    "    \"\"\"\n",
    "    \n",
    "    def __init__(self, data_list, target_list):\n",
    "        \"\"\"\n",
    "        @param data_list: list of newsgroup tokens \n",
    "        @param target_list: list of newsgroup targets \n",
    "\n",
    "        \"\"\"\n",
    "        self.data_list = data_list\n",
    "        self.target_list = target_list\n",
    "        assert (len(self.data_list) == len(self.target_list))\n",
    "\n",
    "    def __len__(self):\n",
    "        return len(self.data_list)\n",
    "        \n",
    "    def __getitem__(self, key):\n",
    "        \"\"\"\n",
    "        Triggered when you call dataset[i]\n",
    "        \"\"\"\n",
    "        \n",
    "        token_idx = self.data_list[key][:MAX_SENTENCE_LENGTH]\n",
    "        label = self.target_list[key]\n",
    "        return [token_idx, len(token_idx), label]\n",
    "\n",
    "def newsgroup_collate_func(batch):\n",
    "    \"\"\"\n",
    "    Customized function for DataLoader that dynamically pads the batch so that all \n",
    "    data have the same length\n",
    "    \"\"\"\n",
    "    data_list = []\n",
    "    label_list = []\n",
    "    length_list = []\n",
    "    #print(\"collate batch: \", batch[0][0])\n",
    "    #batch[0][0] = batch[0][0][:MAX_SENTENCE_LENGTH]\n",
    "    for datum in batch:\n",
    "        label_list.append(datum[2])\n",
    "        length_list.append(datum[1])\n",
    "    # padding\n",
    "    for datum in batch:\n",
    "        padded_vec = np.pad(np.array(datum[0]), \n",
    "                                pad_width=((0,MAX_SENTENCE_LENGTH-datum[1])), \n",
    "                                mode=\"constant\", constant_values=0)\n",
    "        data_list.append(padded_vec)\n",
    "    return [torch.from_numpy(np.array(data_list)), torch.LongTensor(length_list), torch.LongTensor(label_list)]\n",
    "\n",
    "class BagOfWords(nn.Module):\n",
    "    \"\"\"\n",
    "    BagOfWords classification model\n",
    "    \"\"\"\n",
    "    def __init__(self, vocab_size, emb_dim):\n",
    "        \"\"\"\n",
    "        @param vocab_size: size of the vocabulary. \n",
    "        @param emb_dim: size of the word embedding\n",
    "        \"\"\"\n",
    "        super(BagOfWords, self).__init__()\n",
    "        # pay attention to padding_idx \n",
    "        self.embed = nn.Embedding(vocab_size, emb_dim, padding_idx=0)\n",
    "        self.linear = nn.Linear(emb_dim,2)\n",
    "    \n",
    "    def forward(self, data, length):\n",
    "        \"\"\"\n",
    "        \n",
    "        @param data: matrix of size (batch_size, max_sentence_length). Each row in data represents a \n",
    "            review that is represented using n-gram index. Note that they are padded to have same length.\n",
    "        @param length: an int tensor of size (batch_size), which represents the non-trivial (excludes padding)\n",
    "            length of each sentences in the data.\n",
    "        \"\"\"\n",
    "        out = self.embed(data)\n",
    "        out = torch.sum(out, dim=1)\n",
    "        out /= length.view(length.size()[0],1).expand_as(out).float()\n",
    "     \n",
    "        # return logits\n",
    "        out = self.linear(out.float())\n",
    "        return out\n",
    "\n",
    "# Function for testing the model\n",
    "def test_model(loader, model):\n",
    "    \"\"\"\n",
    "    Help function that tests the model's performance on a dataset\n",
    "    @param: loader - data loader for the dataset to test against\n",
    "    \"\"\"\n",
    "    correct = 0\n",
    "    total = 0\n",
    "    model.eval()\n",
    "    for data, lengths, labels in loader:\n",
    "        data_batch, length_batch, label_batch = data, lengths, labels\n",
    "        outputs = F.softmax(model(data_batch, length_batch), dim=1)\n",
    "        predicted = outputs.max(1, keepdim=True)[1]\n",
    "        \n",
    "        total += labels.size(0)\n",
    "        correct += predicted.eq(labels.view_as(predicted)).sum().item()\n",
    "    return (100 * correct / total)"
   ]
  },
  {
   "cell_type": "code",
   "execution_count": 5,
   "metadata": {
    "collapsed": true
   },
   "outputs": [],
   "source": [
    "test_targets = ([1]*12500) + ([0]*12500)\n",
    "train_split = 10000\n",
    "train_targets = ([1]*train_split) + ([0]*train_split)\n",
    "val_targets = ([1]*2500) + ([0]*2500)"
   ]
  },
  {
   "cell_type": "code",
   "execution_count": 6,
   "metadata": {
    "collapsed": true
   },
   "outputs": [],
   "source": [
    "# save index 0 for pad and 1 for unk\n",
    "PAD_IDX = 0\n",
    "UNK_IDX = 1\n",
    "\n",
    "max_vocab_size = 20000\n",
    "MAX_SENTENCE_LENGTH = 400\n",
    "\n",
    "learning_rate = 0.001\n",
    "emb_dim = 400"
   ]
  },
  {
   "cell_type": "markdown",
   "metadata": {},
   "source": [
    "### bag of 1gram"
   ]
  },
  {
   "cell_type": "code",
   "execution_count": 52,
   "metadata": {
    "collapsed": true
   },
   "outputs": [],
   "source": [
    "train_1gram = pkl.load(open(\"train_data_tokens.p\", \"rb\"))\n",
    "all_train_1gram = pkl.load(open(\"all_train_tokens.p\", \"rb\"))\n",
    "\n",
    "val_1gram = pkl.load(open(\"val_data_tokens.p\", \"rb\"))\n",
    "test_1gram = pkl.load(open(\"test_data_tokens.p\", \"rb\"))"
   ]
  },
  {
   "cell_type": "code",
   "execution_count": 53,
   "metadata": {
    "collapsed": true
   },
   "outputs": [],
   "source": [
    "token2id, id2token = build_vocab(all_train_1gram)\n",
    "\n",
    "train_data_indices = token2index_dataset(train_1gram)\n",
    "val_data_indices = token2index_dataset(val_1gram)\n",
    "test_data_indices = token2index_dataset(test_1gram)"
   ]
  },
  {
   "cell_type": "code",
   "execution_count": 64,
   "metadata": {
    "collapsed": true
   },
   "outputs": [],
   "source": [
    "BATCH_SIZE = 32\n",
    "train_dataset = NewsGroupDataset(train_data_indices, train_targets)\n",
    "train_loader = torch.utils.data.DataLoader(dataset=train_dataset, \n",
    "                                           batch_size=BATCH_SIZE,\n",
    "                                           collate_fn=newsgroup_collate_func,\n",
    "                                           shuffle=True)\n",
    "\n",
    "val_dataset = NewsGroupDataset(val_data_indices, val_targets)\n",
    "val_loader = torch.utils.data.DataLoader(dataset=val_dataset, \n",
    "                                           batch_size=BATCH_SIZE,\n",
    "                                           collate_fn=newsgroup_collate_func,\n",
    "                                           shuffle=True)\n",
    "\n",
    "test_dataset = NewsGroupDataset(test_data_indices, test_targets)\n",
    "test_loader = torch.utils.data.DataLoader(dataset=test_dataset, \n",
    "                                           batch_size=BATCH_SIZE,\n",
    "                                           collate_fn=newsgroup_collate_func,\n",
    "                                           shuffle=False)\n",
    "\n",
    "model = BagOfWords(len(id2token), emb_dim)\n",
    "\n",
    "num_epochs = 5 # number epoch to train\n",
    "\n",
    "# Criterion and Optimizer\n",
    "criterion = torch.nn.CrossEntropyLoss()  \n",
    "optimizer = torch.optim.Adam(model.parameters(), lr=learning_rate)\n"
   ]
  },
  {
   "cell_type": "code",
   "execution_count": 65,
   "metadata": {},
   "outputs": [
    {
     "name": "stdout",
     "output_type": "stream",
     "text": [
      "Bag of 1gram\n",
      "Epoch: [1/5], Step: [625/625], Train loss: 0.3451674282550812, Train acc: 87.25, Validation Acc: 84.66\n",
      "Epoch: [2/5], Step: [625/625], Train loss: 0.21920698881149292, Train acc: 91.89, Validation Acc: 87.5\n",
      "Epoch: [3/5], Step: [625/625], Train loss: 0.1932273656129837, Train acc: 94.48, Validation Acc: 88.68\n",
      "Epoch: [4/5], Step: [625/625], Train loss: 0.20265191793441772, Train acc: 96.27, Validation Acc: 88.92\n",
      "Epoch: [5/5], Step: [625/625], Train loss: 0.08680014312267303, Train acc: 97.325, Validation Acc: 89.12\n"
     ]
    }
   ],
   "source": [
    "val_acc_1 = []\n",
    "train_acc_1 = []\n",
    "\n",
    "print('Bag of 1gram')\n",
    "for epoch in range(num_epochs):\n",
    "    for i, (data, lengths, labels) in enumerate(train_loader):\n",
    "        model.train()\n",
    "        data_batch, length_batch, label_batch = data, lengths, labels\n",
    "        optimizer.zero_grad()\n",
    "        outputs = model(data_batch, length_batch)\n",
    "        loss = criterion(outputs, label_batch)\n",
    "        loss.backward()\n",
    "        optimizer.step()\n",
    "        # validate every 625 iterations\n",
    "        if i > 0 and i % 624 == 0:\n",
    "            # validate\n",
    "            val_acc = test_model(val_loader, model)\n",
    "            train_acc = test_model(train_loader, model)\n",
    "            print('Epoch: [{}/{}], Step: [{}/{}], Train loss: {}, Train acc: {}, Validation Acc: {}'.format( \n",
    "                       epoch+1, num_epochs, i+1, len(train_loader), loss, train_acc, val_acc))\n",
    "            train_acc_1.append(train_acc)\n",
    "            val_acc_1.append(val_acc)"
   ]
  },
  {
   "cell_type": "markdown",
   "metadata": {},
   "source": [
    "### bag of 2gram"
   ]
  },
  {
   "cell_type": "code",
   "execution_count": 7,
   "metadata": {
    "collapsed": true
   },
   "outputs": [],
   "source": [
    "train_2gram = pkl.load(open(\"train_2gram.p\", \"rb\"))\n",
    "all_train_2gram = pkl.load(open(\"all_train_2gram.p\", \"rb\"))\n",
    "\n",
    "val_2gram = pkl.load(open(\"val_2gram.p\", \"rb\"))\n",
    "test_2gram = pkl.load(open(\"test_2gram.p\", \"rb\"))"
   ]
  },
  {
   "cell_type": "code",
   "execution_count": 8,
   "metadata": {
    "collapsed": true
   },
   "outputs": [],
   "source": [
    "token2id, id2token = build_vocab(all_train_2gram)\n",
    "\n",
    "train_data_indices = token2index_dataset(train_2gram)\n",
    "val_data_indices = token2index_dataset(val_2gram)\n",
    "test_data_indices = token2index_dataset(test_2gram)"
   ]
  },
  {
   "cell_type": "code",
   "execution_count": 9,
   "metadata": {
    "collapsed": true
   },
   "outputs": [],
   "source": [
    "BATCH_SIZE = 32\n",
    "train_dataset = NewsGroupDataset(train_data_indices, train_targets)\n",
    "train_loader = torch.utils.data.DataLoader(dataset=train_dataset, \n",
    "                                           batch_size=BATCH_SIZE,\n",
    "                                           collate_fn=newsgroup_collate_func,\n",
    "                                           shuffle=True)\n",
    "\n",
    "val_dataset = NewsGroupDataset(val_data_indices, val_targets)\n",
    "val_loader = torch.utils.data.DataLoader(dataset=val_dataset, \n",
    "                                           batch_size=BATCH_SIZE,\n",
    "                                           collate_fn=newsgroup_collate_func,\n",
    "                                           shuffle=True)\n",
    "\n",
    "test_dataset = NewsGroupDataset(test_data_indices, test_targets)\n",
    "test_loader = torch.utils.data.DataLoader(dataset=test_dataset, \n",
    "                                           batch_size=BATCH_SIZE,\n",
    "                                           collate_fn=newsgroup_collate_func,\n",
    "                                           shuffle=False)\n",
    "\n",
    "model = BagOfWords(len(id2token), emb_dim)\n",
    "\n",
    "num_epochs = 5 # number epoch to train\n",
    "\n",
    "# Criterion and Optimizer\n",
    "criterion = torch.nn.CrossEntropyLoss()  \n",
    "optimizer = torch.optim.Adam(model.parameters(), lr=learning_rate)\n"
   ]
  },
  {
   "cell_type": "code",
   "execution_count": 10,
   "metadata": {},
   "outputs": [
    {
     "name": "stdout",
     "output_type": "stream",
     "text": [
      "Bag of 2gram\n",
      "Epoch: [1/5], Step: [625/625], Train loss: 0.43263113498687744, Train acc: 86.21, Validation Acc: 84.04\n",
      "Epoch: [2/5], Step: [625/625], Train loss: 0.34586137533187866, Train acc: 91.07, Validation Acc: 87.5\n",
      "Epoch: [3/5], Step: [625/625], Train loss: 0.15717627108097076, Train acc: 93.75, Validation Acc: 88.64\n",
      "Epoch: [4/5], Step: [625/625], Train loss: 0.23986974358558655, Train acc: 95.455, Validation Acc: 88.9\n",
      "Epoch: [5/5], Step: [625/625], Train loss: 0.1428360641002655, Train acc: 96.775, Validation Acc: 89.28\n"
     ]
    }
   ],
   "source": [
    "val_acc_2 = []\n",
    "train_acc_2 = []\n",
    "\n",
    "print('Bag of 2gram')\n",
    "for epoch in range(num_epochs):\n",
    "    for i, (data, lengths, labels) in enumerate(train_loader):\n",
    "        model.train()\n",
    "        data_batch, length_batch, label_batch = data, lengths, labels\n",
    "        optimizer.zero_grad()\n",
    "        outputs = model(data_batch, length_batch)\n",
    "        loss = criterion(outputs, label_batch)\n",
    "        loss.backward()\n",
    "        optimizer.step()\n",
    "        # validate every 625 iterations\n",
    "        if i > 0 and i % 624 == 0:\n",
    "            # validate\n",
    "            val_acc = test_model(val_loader, model)\n",
    "            train_acc = test_model(train_loader, model)\n",
    "            print('Epoch: [{}/{}], Step: [{}/{}], Train loss: {}, Train acc: {}, Validation Acc: {}'.format( \n",
    "                       epoch+1, num_epochs, i+1, len(train_loader), loss, train_acc, val_acc))\n",
    "            train_acc_2.append(train_acc)\n",
    "            val_acc_2.append(val_acc)"
   ]
  },
  {
   "cell_type": "markdown",
   "metadata": {},
   "source": [
    "### bag of 3gram"
   ]
  },
  {
   "cell_type": "code",
   "execution_count": 11,
   "metadata": {
    "collapsed": true
   },
   "outputs": [],
   "source": [
    "train_3gram = pkl.load(open(\"train_3gram.p\", \"rb\"))\n",
    "all_train_3gram = pkl.load(open(\"all_train_3gram.p\", \"rb\"))\n",
    "\n",
    "val_3gram = pkl.load(open(\"val_3gram.p\", \"rb\"))\n",
    "test_3gram = pkl.load(open(\"test_3gram.p\", \"rb\"))"
   ]
  },
  {
   "cell_type": "code",
   "execution_count": 12,
   "metadata": {
    "collapsed": true
   },
   "outputs": [],
   "source": [
    "token2id, id2token = build_vocab(all_train_3gram)\n",
    "\n",
    "train_data_indices = token2index_dataset(train_3gram)\n",
    "val_data_indices = token2index_dataset(val_3gram)\n",
    "test_data_indices = token2index_dataset(test_3gram)"
   ]
  },
  {
   "cell_type": "code",
   "execution_count": 13,
   "metadata": {
    "collapsed": true
   },
   "outputs": [],
   "source": [
    "BATCH_SIZE = 32\n",
    "train_dataset = NewsGroupDataset(train_data_indices, train_targets)\n",
    "train_loader = torch.utils.data.DataLoader(dataset=train_dataset, \n",
    "                                           batch_size=BATCH_SIZE,\n",
    "                                           collate_fn=newsgroup_collate_func,\n",
    "                                           shuffle=True)\n",
    "\n",
    "val_dataset = NewsGroupDataset(val_data_indices, val_targets)\n",
    "val_loader = torch.utils.data.DataLoader(dataset=val_dataset, \n",
    "                                           batch_size=BATCH_SIZE,\n",
    "                                           collate_fn=newsgroup_collate_func,\n",
    "                                           shuffle=True)\n",
    "\n",
    "test_dataset = NewsGroupDataset(test_data_indices, test_targets)\n",
    "test_loader = torch.utils.data.DataLoader(dataset=test_dataset, \n",
    "                                           batch_size=BATCH_SIZE,\n",
    "                                           collate_fn=newsgroup_collate_func,\n",
    "                                           shuffle=False)\n",
    "\n",
    "model = BagOfWords(len(id2token), emb_dim)\n",
    "\n",
    "num_epochs = 5 # number epoch to train\n",
    "\n",
    "# Criterion and Optimizer\n",
    "criterion = torch.nn.CrossEntropyLoss()  \n",
    "optimizer = torch.optim.Adam(model.parameters(), lr=learning_rate)\n"
   ]
  },
  {
   "cell_type": "code",
   "execution_count": 14,
   "metadata": {},
   "outputs": [
    {
     "name": "stdout",
     "output_type": "stream",
     "text": [
      "Bag of 3gram\n",
      "Epoch: [1/5], Step: [625/625], Train loss: 0.46599072217941284, Train acc: 84.375, Validation Acc: 82.36\n",
      "Epoch: [2/5], Step: [625/625], Train loss: 0.3396364152431488, Train acc: 89.95, Validation Acc: 86.5\n",
      "Epoch: [3/5], Step: [625/625], Train loss: 0.21502694487571716, Train acc: 91.545, Validation Acc: 87.52\n",
      "Epoch: [4/5], Step: [625/625], Train loss: 0.1919134110212326, Train acc: 93.935, Validation Acc: 88.06\n",
      "Epoch: [5/5], Step: [625/625], Train loss: 0.06938639283180237, Train acc: 95.765, Validation Acc: 89.0\n"
     ]
    }
   ],
   "source": [
    "val_acc_3 = []\n",
    "train_acc_3 = []\n",
    "\n",
    "print('Bag of 3gram')\n",
    "for epoch in range(num_epochs):\n",
    "    for i, (data, lengths, labels) in enumerate(train_loader):\n",
    "        model.train()\n",
    "        data_batch, length_batch, label_batch = data, lengths, labels\n",
    "        optimizer.zero_grad()\n",
    "        outputs = model(data_batch, length_batch)\n",
    "        loss = criterion(outputs, label_batch)\n",
    "        loss.backward()\n",
    "        optimizer.step()\n",
    "        # validate every 625 iterations\n",
    "        if i > 0 and i % 624 == 0:\n",
    "            # validate\n",
    "            val_acc = test_model(val_loader, model)\n",
    "            train_acc = test_model(train_loader, model)\n",
    "            print('Epoch: [{}/{}], Step: [{}/{}], Train loss: {}, Train acc: {}, Validation Acc: {}'.format( \n",
    "                       epoch+1, num_epochs, i+1, len(train_loader), loss, train_acc, val_acc))\n",
    "            train_acc_3.append(train_acc)\n",
    "            val_acc_3.append(val_acc)"
   ]
  },
  {
   "cell_type": "markdown",
   "metadata": {},
   "source": [
    "### bag of 4gram"
   ]
  },
  {
   "cell_type": "code",
   "execution_count": 15,
   "metadata": {
    "collapsed": true
   },
   "outputs": [],
   "source": [
    "train_4gram = pkl.load(open(\"train_4gram.p\", \"rb\"))\n",
    "all_train_4gram = pkl.load(open(\"all_train_4gram.p\", \"rb\"))\n",
    "\n",
    "val_4gram = pkl.load(open(\"val_4gram.p\", \"rb\"))\n",
    "test_4gram = pkl.load(open(\"test_4gram.p\", \"rb\"))"
   ]
  },
  {
   "cell_type": "code",
   "execution_count": 16,
   "metadata": {
    "collapsed": true
   },
   "outputs": [],
   "source": [
    "token2id, id2token = build_vocab(all_train_4gram)\n",
    "\n",
    "train_data_indices = token2index_dataset(train_4gram)\n",
    "val_data_indices = token2index_dataset(val_4gram)\n",
    "test_data_indices = token2index_dataset(test_4gram)"
   ]
  },
  {
   "cell_type": "code",
   "execution_count": 17,
   "metadata": {
    "collapsed": true
   },
   "outputs": [],
   "source": [
    "BATCH_SIZE = 32\n",
    "train_dataset = NewsGroupDataset(train_data_indices, train_targets)\n",
    "train_loader = torch.utils.data.DataLoader(dataset=train_dataset, \n",
    "                                           batch_size=BATCH_SIZE,\n",
    "                                           collate_fn=newsgroup_collate_func,\n",
    "                                           shuffle=True)\n",
    "\n",
    "val_dataset = NewsGroupDataset(val_data_indices, val_targets)\n",
    "val_loader = torch.utils.data.DataLoader(dataset=val_dataset, \n",
    "                                           batch_size=BATCH_SIZE,\n",
    "                                           collate_fn=newsgroup_collate_func,\n",
    "                                           shuffle=True)\n",
    "\n",
    "test_dataset = NewsGroupDataset(test_data_indices, test_targets)\n",
    "test_loader = torch.utils.data.DataLoader(dataset=test_dataset, \n",
    "                                           batch_size=BATCH_SIZE,\n",
    "                                           collate_fn=newsgroup_collate_func,\n",
    "                                           shuffle=False)\n",
    "\n",
    "model = BagOfWords(len(id2token), emb_dim)\n",
    "\n",
    "num_epochs = 5 # number epoch to train\n",
    "\n",
    "# Criterion and Optimizer\n",
    "criterion = torch.nn.CrossEntropyLoss()  \n",
    "optimizer = torch.optim.Adam(model.parameters(), lr=learning_rate)\n"
   ]
  },
  {
   "cell_type": "code",
   "execution_count": 18,
   "metadata": {},
   "outputs": [
    {
     "name": "stdout",
     "output_type": "stream",
     "text": [
      "Bag of 4gram\n",
      "Epoch: [1/5], Step: [625/625], Train loss: 0.5216785073280334, Train acc: 84.465, Validation Acc: 82.12\n",
      "Epoch: [2/5], Step: [625/625], Train loss: 0.30953943729400635, Train acc: 89.245, Validation Acc: 85.92\n",
      "Epoch: [3/5], Step: [625/625], Train loss: 0.2114473283290863, Train acc: 92.49, Validation Acc: 87.66\n",
      "Epoch: [4/5], Step: [625/625], Train loss: 0.18493503332138062, Train acc: 94.185, Validation Acc: 88.34\n",
      "Epoch: [5/5], Step: [625/625], Train loss: 0.1975054144859314, Train acc: 94.995, Validation Acc: 88.04\n"
     ]
    }
   ],
   "source": [
    "val_acc_4 = []\n",
    "train_acc_4 = []\n",
    "\n",
    "print('Bag of 4gram')\n",
    "for epoch in range(num_epochs):\n",
    "    for i, (data, lengths, labels) in enumerate(train_loader):\n",
    "        model.train()\n",
    "        data_batch, length_batch, label_batch = data, lengths, labels\n",
    "        optimizer.zero_grad()\n",
    "        outputs = model(data_batch, length_batch)\n",
    "        loss = criterion(outputs, label_batch)\n",
    "        loss.backward()\n",
    "        optimizer.step()\n",
    "        # validate every 625 iterations\n",
    "        if i > 0 and i % 624 == 0:\n",
    "            # validate\n",
    "            val_acc = test_model(val_loader, model)\n",
    "            train_acc = test_model(train_loader, model)\n",
    "            print('Epoch: [{}/{}], Step: [{}/{}], Train loss: {}, Train acc: {}, Validation Acc: {}'.format( \n",
    "                       epoch+1, num_epochs, i+1, len(train_loader), loss, train_acc, val_acc))\n",
    "            train_acc_4.append(train_acc)\n",
    "            val_acc_4.append(val_acc)"
   ]
  },
  {
   "cell_type": "markdown",
   "metadata": {},
   "source": [
    "## Plot accuracy"
   ]
  },
  {
   "cell_type": "code",
   "execution_count": 67,
   "metadata": {},
   "outputs": [
    {
     "data": {
      "image/png": "[encoded data removed]",
      "text/plain": [
       "<Figure size 864x504 with 1 Axes>"
      ]
     },
     "metadata": {},
     "output_type": "display_data"
    }
   ],
   "source": [
    "fig = plt.figure(1,figsize = (12,7)) \n",
    "ax = plt.subplot(111)\n",
    "x_rge = list(range(1,6))\n",
    "\n",
    "plt.plot(x_rge,train_acc_1,label=\"bag of 1gram\")\n",
    "plt.plot(x_rge,train_acc_2,label=\"bag of 2grams\")\n",
    "plt.plot(x_rge,train_acc_3,label=\"bag of 3grams\")\n",
    "plt.plot(x_rge,train_acc_4,label=\"bag of 4grams\")\n",
    "\n",
    "plt.xlim(0,7)\n",
    "plt.legend(loc=1)\n",
    "plt.xlabel(\"Number of Epoches\")\n",
    "plt.ylabel(\"Training Accuracy\")\n",
    "plt.title(\"Bag of N-gram\")\n",
    "plt.show()"
   ]
  },
  {
   "cell_type": "code",
   "execution_count": 66,
   "metadata": {},
   "outputs": [
    {
     "data": {
      "image/png": "[encoded data removed]",
      "text/plain": [
       "<Figure size 864x504 with 1 Axes>"
      ]
     },
     "metadata": {},
     "output_type": "display_data"
    }
   ],
   "source": [
    "fig = plt.figure(2,figsize = (12,7)) \n",
    "ax = plt.subplot(111)\n",
    "x_rge = list(range(1,6))\n",
    "\n",
    "plt.plot(x_rge,val_acc_1,label=\"bag of 1gram\")\n",
    "plt.plot(x_rge,val_acc_2,label=\"bag of 2grams\")\n",
    "plt.plot(x_rge,val_acc_3,label=\"bag of 3grams\")\n",
    "plt.plot(x_rge,val_acc_4,label=\"bag of 4grams\")\n",
    "\n",
    "plt.xlim(0,7)\n",
    "plt.legend(loc=1)\n",
    "plt.xlabel(\"Number of Epoches\")\n",
    "plt.ylabel(\"Validation Accuracy\")\n",
    "plt.title(\"Bag of N-gram\")\n",
    "plt.show()"
   ]
  },
  {
   "cell_type": "code",
   "execution_count": null,
   "metadata": {
    "collapsed": true
   },
   "outputs": [],
   "source": []
  }
 ],
 "metadata": {
  "kernelspec": {
   "display_name": "Python 3",
   "language": "python",
   "name": "python3"
  },
  "language_info": {
   "codemirror_mode": {
    "name": "ipython",
    "version": 3
   },
   "file_extension": ".py",
   "mimetype": "text/x-python",
   "name": "python",
   "nbconvert_exporter": "python",
   "pygments_lexer": "ipython3",
   "version": "3.6.6"
  }
 },
 "nbformat": 4,
 "nbformat_minor": 2
}
